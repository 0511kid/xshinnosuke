{
 "cells": [
  {
   "cell_type": "code",
   "execution_count": 1,
   "metadata": {},
   "outputs": [],
   "source": [
    "from xshinnosuke.nn import Variable\n",
    "import cupy as np"
   ]
  },
  {
   "cell_type": "markdown",
   "metadata": {},
   "source": [
    "# demo 1"
   ]
  },
  {
   "cell_type": "code",
   "execution_count": 2,
   "metadata": {},
   "outputs": [],
   "source": [
    "np.random.seed(0)\n",
    "a = Variable(np.random.randn(3, 4))\n",
    "b = Variable(np.ones((4, 2)))\n",
    "c = Variable(np.random.randn(1, 3))\n",
    "y = Variable(10)"
   ]
  },
  {
   "cell_type": "code",
   "execution_count": 3,
   "metadata": {},
   "outputs": [
    {
     "name": "stdout",
     "output_type": "stream",
     "text": [
      "Variable(105.37674866848246, requires_grad=True, grad_fn=<PowBackward>)\n"
     ]
    }
   ],
   "source": [
    "# (3, 2) = (3, 4) * (4, 2)\n",
    "x1 = a * b\n",
    "# (2, 3) = (2, 3) * (1, 3)\n",
    "x2 = x1.t() * c\n",
    "# (2, )\n",
    "x3 = x2.mean(axis=1)\n",
    "x4 = x3.sum()\n",
    "loss = (x4 - y) ** 2\n",
    "print(loss)"
   ]
  },
  {
   "cell_type": "code",
   "execution_count": 4,
   "metadata": {},
   "outputs": [
    {
     "name": "stdout",
     "output_type": "stream",
     "text": [
      "-20.53063551558816\n",
      "[-20.53063552 -20.53063552]\n",
      "[[-6.84354517 -6.84354517 -6.84354517]\n",
      " [-6.84354517 -6.84354517 -6.84354517]]\n",
      "[[2.44424024 8.97854219]\n",
      " [0.73130437 2.44424024]\n",
      " [8.97854219 0.73130437]]\n"
     ]
    }
   ],
   "source": [
    "x4.retain_grad()\n",
    "x3.retain_grad()\n",
    "x2.retain_grad()\n",
    "x1.retain_grad()\n",
    "loss.backward()\n",
    "\n",
    "print(x4.grad)\n",
    "print(x3.grad)\n",
    "print(x2.grad)\n",
    "print(x1.grad)"
   ]
  },
  {
   "cell_type": "markdown",
   "metadata": {},
   "source": [
    "# demo 2"
   ]
  },
  {
   "cell_type": "code",
   "execution_count": 5,
   "metadata": {},
   "outputs": [],
   "source": [
    "from xshinnosuke.nn import MeanSquaredError\n",
    "\n",
    "x = np.random.randn(3, 5)\n",
    "\n",
    "x1 = Variable(x)\n",
    "x2 = Variable(x)\n",
    "y = Variable(np.random.rand(1))\n",
    "criterion = MeanSquaredError()"
   ]
  },
  {
   "cell_type": "code",
   "execution_count": 6,
   "metadata": {},
   "outputs": [
    {
     "name": "stdout",
     "output_type": "stream",
     "text": [
      "pred1:  Variable([[ 0.3182629 ]\n",
      " [-0.04608845]\n",
      " [ 0.12893736]], requires_grad=True, grad_fn=<DenseBackward>)\n",
      "loss1:  Variable(0.04278315825555551, requires_grad=True, grad_fn=<MeanSquaredbackward>)\n",
      "x1 grad:  [[-0.00036793  0.00091293  0.00161639 -0.00136121  0.00097157]\n",
      " [-0.00236001  0.00585589  0.01036809 -0.00873131  0.00623201]\n",
      " [-0.00140306  0.00348141  0.00616397 -0.00519089  0.00370502]]\n"
     ]
    }
   ],
   "source": [
    "from xshinnosuke.layers import Dense\n",
    "\n",
    "# normal fully connected layer\n",
    "fc = Dense(1)\n",
    "# forward\n",
    "pred1 = fc(x1)\n",
    "loss1 = criterion(pred1, y)\n",
    "print('pred1: ', pred1)\n",
    "print('loss1: ', loss1)\n",
    "loss1.backward()\n",
    "print('x1 grad: ', x1.grad)"
   ]
  },
  {
   "cell_type": "code",
   "execution_count": 7,
   "metadata": {},
   "outputs": [
    {
     "name": "stdout",
     "output_type": "stream",
     "text": [
      "pred2:  Variable([[ 0.3182629 ]\n",
      " [-0.04608845]\n",
      " [ 0.12893736]], requires_grad=True, grad_fn=<AddBackward>)\n",
      "loss2:  Variable(0.04278315825555551, requires_grad=True, grad_fn=<MeanSquaredbackward>)\n",
      "x2 grad:  [[-0.00036793  0.00091293  0.00161639 -0.00136121  0.00097157]\n",
      " [-0.00236001  0.00585589  0.01036809 -0.00873131  0.00623201]\n",
      " [-0.00140306  0.00348141  0.00616397 -0.00519089  0.00370502]]\n"
     ]
    }
   ],
   "source": [
    "# get the same parameters of Dense\n",
    "weight, bias = fc.variables\n",
    "# manually create a fully connected layer\n",
    "pred2 = x2.matmul(weight) + bias\n",
    "loss2 = criterion(pred2, y)\n",
    "print('pred2: ', pred2)\n",
    "print('loss2: ', loss2)\n",
    "loss2.backward()\n",
    "print('x2 grad: ', x2.grad)"
   ]
  },
  {
   "cell_type": "code",
   "execution_count": null,
   "metadata": {},
   "outputs": [],
   "source": []
  }
 ],
 "metadata": {
  "kernelspec": {
   "display_name": "Python 3",
   "language": "python",
   "name": "python3"
  },
  "language_info": {
   "codemirror_mode": {
    "name": "ipython",
    "version": 3
   },
   "file_extension": ".py",
   "mimetype": "text/x-python",
   "name": "python",
   "nbconvert_exporter": "python",
   "pygments_lexer": "ipython3",
   "version": "3.7.7"
  }
 },
 "nbformat": 4,
 "nbformat_minor": 4
}
